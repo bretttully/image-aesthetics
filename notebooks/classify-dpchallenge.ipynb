{
 "cells": [
  {
   "cell_type": "code",
   "execution_count": 1,
   "metadata": {
    "collapsed": false
   },
   "outputs": [],
   "source": [
    "from __future__ import print_function, absolute_import, division\n",
    "%matplotlib inline\n",
    "import tensorflow as tf\n",
    "import numpy as np\n",
    "import os\n",
    "import pandas as pd\n",
    "\n",
    "import sys\n",
    "sys.path.insert(0, os.path.join('..', 'pysrc'))\n",
    "\n",
    "from tfaesthetics.ui import log_progress_ipywidget\n",
    "from tfaesthetics import dpchallenge"
   ]
  },
  {
   "cell_type": "markdown",
   "metadata": {},
   "source": [
    "# Test Tensorflow by running the imagenet classification app"
   ]
  },
  {
   "cell_type": "code",
   "execution_count": 2,
   "metadata": {
    "collapsed": false,
    "scrolled": true
   },
   "outputs": [
    {
     "name": "stderr",
     "output_type": "stream",
     "text": [
      "/home/brett/anaconda3/envs/tensorflow-gpu/lib/python3.5/site-packages/tensorflow/python/ops/array_ops.py:1811: VisibleDeprecationWarning: converting an array with ndim > 0 to an index will result in an error in the future\n",
      "  result_shape.insert(dim, 1)\n"
     ]
    },
    {
     "name": "stdout",
     "output_type": "stream",
     "text": [
      "giant panda, panda, panda bear, coon bear, Ailuropoda melanoleuca (score = 0.89233)\n",
      "indri, indris, Indri indri, Indri brevicaudatus (score = 0.00859)\n",
      "lesser panda, red panda, panda, bear cat, cat bear, Ailurus fulgens (score = 0.00264)\n",
      "custard apple (score = 0.00141)\n",
      "earthstar (score = 0.00107)\n"
     ]
    }
   ],
   "source": [
    "import tensorflow.models.image.imagenet.classify_image as classify_image\n",
    "classify_image.FLAGS._parse_flags()\n",
    "classify_image.main(None)"
   ]
  },
  {
   "cell_type": "markdown",
   "metadata": {},
   "source": [
    "# Classify images in DPChallenge"
   ]
  },
  {
   "cell_type": "markdown",
   "metadata": {},
   "source": [
    "## Scrape the images"
   ]
  },
  {
   "cell_type": "code",
   "execution_count": null,
   "metadata": {
    "collapsed": true
   },
   "outputs": [],
   "source": [
    "dpchallenge.create_databases()\n",
    "dpchallenge.download_images()\n",
    "dpchallenge.normalise_rating()"
   ]
  },
  {
   "cell_type": "markdown",
   "metadata": {},
   "source": [
    "## Run classification on the DPChallenge database"
   ]
  },
  {
   "cell_type": "code",
   "execution_count": null,
   "metadata": {
    "collapsed": false
   },
   "outputs": [],
   "source": [
    "# get the image files names to process\n",
    "df = pd.read_hdf(build_database.HDF_FILENAME, key='images')\n",
    "fnames = list()\n",
    "for index, row in df.iterrows():\n",
    "    fname = dpchallenge.Image.filename(index)\n",
    "    if not os.path.exists(fname):\n",
    "        continue\n",
    "    fnames.append(fname)\n",
    "\n",
    "# set up the results\n",
    "num_predictions = 5\n",
    "image_ratings = dict()\n",
    "image_ratings['image_id'] = list()\n",
    "for i in range(num_predictions):\n",
    "    image_ratings['score_id_{}'.format(i + 1)] = list()\n",
    "    image_ratings['probability_{}'.format(i + 1)] = list()\n",
    "\n",
    "# load the graph and run it on each image\n",
    "classify_image.create_graph()\n",
    "with tf.Session() as sess:\n",
    "    softmax_tensor = sess.graph.get_tensor_by_name('softmax:0')\n",
    "    \n",
    "    for fname in log_progress_ipywidget(fnames, every=100):\n",
    "    \n",
    "        try:\n",
    "            image_data = tf.gfile.FastGFile(fname, 'rb').read()\n",
    "            predictions = sess.run(softmax_tensor, {'DecodeJpeg/contents:0': image_data})\n",
    "        except Exception as e:\n",
    "            print('Predicting {} failed!'.format(fname))\n",
    "            continue\n",
    "            \n",
    "        predictions = np.squeeze(predictions)\n",
    "        top_k = predictions.argsort()[-num_predictions:][::-1]\n",
    "        \n",
    "        image_ratings['image_id'].append(index)\n",
    "        for i, node_id in enumerate(top_k):\n",
    "            image_ratings['score_id_{}'.format(i + 1)].append(node_id)\n",
    "            image_ratings['probability_{}'.format(i + 1)].append(predictions[node_id])\n",
    "\n",
    "with pd.HDFStore(build_database.HDF_FILENAME) as store:\n",
    "    store['objects'] = pd.DataFrame(image_ratings, index=image_ratings['image_id'])"
   ]
  },
  {
   "cell_type": "markdown",
   "metadata": {},
   "source": [
    "### Have a look at the top predicted category"
   ]
  },
  {
   "cell_type": "code",
   "execution_count": 3,
   "metadata": {
    "collapsed": false
   },
   "outputs": [
    {
     "data": {
      "text/plain": [
       "<matplotlib.axes._subplots.AxesSubplot at 0x7fa80d230208>"
      ]
     },
     "execution_count": 3,
     "metadata": {},
     "output_type": "execute_result"
    },
    {
     "data": {
      "image/png": "[encoded data removed]",
      "text/plain": [
       "<matplotlib.figure.Figure at 0x7fa80d14d5c0>"
      ]
     },
     "metadata": {},
     "output_type": "display_data"
    }
   ],
   "source": [
    "with pd.HDFStore(dpchallenge.HDF_FILENAME) as store:\n",
    "    df = store['objects']\n",
    "best_score = df['score_id_1']\n",
    "best_score.hist()"
   ]
  },
  {
   "cell_type": "code",
   "execution_count": null,
   "metadata": {
    "collapsed": true
   },
   "outputs": [],
   "source": []
  }
 ],
 "metadata": {
  "anaconda-cloud": {},
  "kernelspec": {
   "display_name": "Python 3",
   "language": "python",
   "name": "python3"
  },
  "language_info": {
   "codemirror_mode": {
    "name": "ipython",
    "version": 3
   },
   "file_extension": ".py",
   "mimetype": "text/x-python",
   "name": "python",
   "nbconvert_exporter": "python",
   "pygments_lexer": "ipython3",
   "version": "3.5.2"
  }
 },
 "nbformat": 4,
 "nbformat_minor": 0
}
